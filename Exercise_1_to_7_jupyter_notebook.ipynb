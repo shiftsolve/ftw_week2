{
 "cells": [
  {
   "cell_type": "code",
   "execution_count": 1,
   "metadata": {},
   "outputs": [
    {
     "name": "stdout",
     "output_type": "stream",
     "text": [
      "Hi my name is Julie and I am 42 years old\n"
     ]
    }
   ],
   "source": [
    "# Exercise 1 \n",
    "# Variables, Strings, Ints and Print Exercise\n",
    "\n",
    "# Given two variables - name and age.\n",
    "# Use the format() function to create a sentence that reads:\n",
    "# \"Hi my name is Julie and I am 42 years old\"\n",
    "\n",
    "# Set that equal to the variable called sentence\n",
    "\n",
    "name = \"Julie\"\n",
    "age = \"42\"\n",
    "sentence = \"Hi my name is {} and I am {} years old\".format(name,age)\n",
    "print(sentence)"
   ]
  },
  {
   "cell_type": "code",
   "execution_count": 2,
   "metadata": {},
   "outputs": [
    {
     "name": "stdout",
     "output_type": "stream",
     "text": [
      "You are before or after the 21st century\n"
     ]
    }
   ],
   "source": [
    "# Exercise 2\n",
    "# If Statements and Comments Exercise\n",
    "\n",
    "# Make an if-else statement if year is between 2000 and 2100\n",
    "# (including both numbers), then print out:\n",
    "# \"Welcome to the 21st century\"\n",
    "# Else print out:\n",
    "# \"You are before or after the 21st century\"\n",
    "\n",
    "year = 0\n",
    "\n",
    "if year >= 2000 and year <=2100:\n",
    "    print (\" Welcome to the 21st century\")\n",
    "else:\n",
    "    print(\"You are before or after the 21st century\")\n",
    "\n",
    "year = 1830 "
   ]
  },
  {
   "cell_type": "code",
   "execution_count": 3,
   "metadata": {},
   "outputs": [
    {
     "name": "stdout",
     "output_type": "stream",
     "text": [
      "hello\n",
      "hello\n",
      "hello\n"
     ]
    }
   ],
   "source": [
    "# Exercise 3\n",
    "# Challenge - Functions Exercise\n",
    "\n",
    "# Create a function named tripleprint that takes a string as a parameter\n",
    "# and prints that string 3 times in a row.\n",
    "# So if I passed in the string \"hello\",\n",
    "# it would print \"hellohellohello\"\n",
    "\n",
    "def tripleprint(str):\n",
    "    print(str)\n",
    "    print(str)\n",
    "    print(str)\n",
    "\n",
    "tripleprint(\"hello\")\n"
   ]
  },
  {
   "cell_type": "code",
   "execution_count": 4,
   "metadata": {},
   "outputs": [
    {
     "name": "stdout",
     "output_type": "stream",
     "text": [
      "hellohellohello\n"
     ]
    }
   ],
   "source": [
    "\n",
    "\n",
    "def tripleprint(str):\n",
    "    stringconcat = str + str + str\n",
    "    print(stringconcat)\n",
    "\n",
    "tripleprint(\"hello\")"
   ]
  },
  {
   "cell_type": "code",
   "execution_count": 5,
   "metadata": {},
   "outputs": [
    {
     "name": "stdout",
     "output_type": "stream",
     "text": [
      "['Spizikes', 'Air Force 1', 'Curry 2', 'Melo 5']\n"
     ]
    }
   ],
   "source": [
    "# Exercise 4\n",
    "# Challenge - Lists Exercise\n",
    "\n",
    "# Create a variable named shoes that is a\n",
    "# list of the following items, in order:\n",
    "# Spizikes\n",
    "# Air Force 1\n",
    "# Curry 2\n",
    "# Melo 5\n",
    "\n",
    "shoes  = [\"Spizikes\", \"Air Force 1\",\"Curry 2\",\"Melo 5\"]\n",
    "print(shoes)"
   ]
  },
  {
   "cell_type": "code",
   "execution_count": 6,
   "metadata": {},
   "outputs": [
    {
     "name": "stdout",
     "output_type": "stream",
     "text": [
      "['Spizikes', 'Air Force 1', 'Curry 2', 'Melo 5']\n"
     ]
    }
   ],
   "source": [
    "shoes = [\"Spizikes\",\"Air Force 1\",\"Curry 2\",\"Melo 5\"]\n",
    "\n",
    "print(shoes)"
   ]
  },
  {
   "cell_type": "code",
   "execution_count": 7,
   "metadata": {},
   "outputs": [],
   "source": [
    "# Exercise 5 \n",
    "# Challenge - Loops Exercise\n",
    "\n",
    "# Given a list of ints below called numbers.\n",
    "# Print every number that is greater than 90.\n",
    "\n",
    "numbers = [\n",
    "    76, 83, 16, 69, 52, 78, 10, 77, 45, 52,\n",
    "    32, 17, 58, 54, 79, 72, 55, 50, 81, 74,\n",
    "    45, 33, 38, 10, 40, 44, 70, 81, 79, 28,\n",
    "    83, 41, 14, 16, 27, 38, 20, 84, 24, 50,\n",
    "    59, 71, 1, 13, 56, 91, 29, 54, 65, 23,\n",
    "    60, 57, 13, 39, 58, 94, 94, 42, 46, 58,\n",
    "    59, 29, 69, 60, 83, 9, 83, 5, 64, 70,\n",
    "    55, 89, 67, 89, 70, 8, 90, 17, 48, 17,\n",
    "    94, 18, 98, 72, 96, 26, 13, 7, 58, 67,\n",
    "    38, 48, 43, 98, 65, 8, 74, 44, 92\n",
    "]"
   ]
  },
  {
   "cell_type": "code",
   "execution_count": 8,
   "metadata": {},
   "outputs": [
    {
     "name": "stdout",
     "output_type": "stream",
     "text": [
      "91\n",
      "94\n",
      "94\n",
      "94\n",
      "98\n",
      "96\n",
      "98\n",
      "92\n"
     ]
    }
   ],
   "source": [
    "for x in numbers:\n",
    "    if x > 90 :\n",
    "        print(x)"
   ]
  },
  {
   "cell_type": "code",
   "execution_count": 9,
   "metadata": {},
   "outputs": [
    {
     "name": "stdout",
     "output_type": "stream",
     "text": [
      "When your phone or tablet indicates that you are connected to a wireless network, however you are still unable to load webpages or use any internet services with your device\n"
     ]
    }
   ],
   "source": [
    "# Exercise 6\n",
    "# Challenge - Dictionaries Exercise\n",
    "#\n",
    "# Given two lists - words and definitions,\n",
    "# Create a dictionary called cooldictionary where you\n",
    "# use words for keys and definitions for values\n",
    "\n",
    "words = [\"PoGo\",\"Spange\",\"Lie-Fi\"]\n",
    "definitions = [\"Slang for Pokemon Go\",\"To collect spare change, either from couches, passerbys on the street or any numerous other ways and means\",\"When your phone or tablet indicates that you are connected to a wireless network, however you are still unable to load webpages or use any internet services with your device\"]\n",
    "\n",
    "cooldictionary = {words[0]:definitions[0],words[1]:definitions[1], words[2]:definitions[2]}\n",
    "#print(cooldictionary)\n",
    "\n",
    "#print(cooldictionary[\"PoGo\"])\n",
    "#print(cooldictionary[\"Spange\"])\n",
    "print(cooldictionary[\"Lie-Fi\"])"
   ]
  },
  {
   "cell_type": "code",
   "execution_count": 10,
   "metadata": {},
   "outputs": [
    {
     "name": "stdout",
     "output_type": "stream",
     "text": [
      "3\n",
      "34\n",
      "119\n"
     ]
    }
   ],
   "source": [
    "# Exercise 7\n",
    "# Challenge - Classes Exercise\n",
    "\n",
    "# Add a method to the Car class called age\n",
    "# that returns how old the car is (2019 - year)\n",
    "\n",
    "# *Be sure to return the age, not print it\n",
    "\n",
    "class Car:\n",
    "\n",
    "    def __init__(self,year, make, model):\n",
    "        self.year = year\n",
    "        self.make = make\n",
    "        self.model = model\n",
    "\n",
    "    def age(self):\n",
    "        car_age  = self.year - self.make\n",
    "        return(car_age)\n",
    "\n",
    "c1 = Car(2019, 2016,\"Toyota\")\n",
    "c2 = Car(2019, 1985,\"Celica\")\n",
    "c1.age()\n",
    "c2.age()\n",
    "\n",
    "\n",
    "print(c1.age())\n",
    "print(c2.age())\n",
    "print(Car(2019,1900,\"BMW\").age())"
   ]
  },
  {
   "cell_type": "code",
   "execution_count": null,
   "metadata": {},
   "outputs": [],
   "source": []
  }
 ],
 "metadata": {
  "kernelspec": {
   "display_name": "Python 3",
   "language": "python",
   "name": "python3"
  },
  "language_info": {
   "codemirror_mode": {
    "name": "ipython",
    "version": 3
   },
   "file_extension": ".py",
   "mimetype": "text/x-python",
   "name": "python",
   "nbconvert_exporter": "python",
   "pygments_lexer": "ipython3",
   "version": "3.7.4"
  }
 },
 "nbformat": 4,
 "nbformat_minor": 2
}
